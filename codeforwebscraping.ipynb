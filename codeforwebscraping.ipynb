{
 "cells": [
  {
   "cell_type": "code",
   "execution_count": 3,
   "metadata": {},
   "outputs": [
    {
     "data": {
      "text/plain": [
       "<selenium.webdriver.remote.webelement.WebElement (session=\"4733c85366c5574dfdfce5c3e3996ece\", element=\"f.1208D5BABA8E5BF641A717B92200E126.d.6937DEE518FB6D71F37A8CDFD4248996.e.142\")>"
      ]
     },
     "execution_count": 3,
     "metadata": {},
     "output_type": "execute_result"
    }
   ],
   "source": [
    "from selenium import webdriver\n",
    "import time\n",
    "import pandas as pd\n",
    "import os\n",
    "from selenium.webdriver.support.select import Select\n",
    "from selenium.webdriver.support.ui import WebDriverWait\n",
    "from selenium.webdriver.common.by import By\n",
    "from selenium.webdriver.support import expected_conditions as EC\n",
    "from selenium import webdriver\n",
    "from selenium.webdriver.chrome.service import Service\n",
    "import numpy as np\n",
    "import random\n",
    "\n",
    "linkedin_username = 'USERNAME'#put your username here to automate the login\n",
    "linkedin_password = 'PASSWORD'#put your password here\n",
    "\n",
    "\n",
    "service = Service(r\"C:\\Users\\bhupe\\Downloads\\chromedriver-win64\\chromedriver-win64\\chromedriver.exe\")#here it is the location of file driver of browser in your pc\n",
    "driver = webdriver.Chrome(service=service)#Change the browser according to your need Chrome/Firefox/Edge/ or take accoding to your need\n",
    "\n",
    "driver.maximize_window() #maximizing window\n",
    "linkedin = 'https://www.linkedin.com/jobs/collections/recommended/?currentJobId=3832806074&discover=recommended&discoveryOrigin=PUBLIC_COMMS'\n",
    "driver.get(linkedin)\n",
    "#Automation code for login starts here\n",
    "username = WebDriverWait(driver, 10).until(\n",
    "    EC.presence_of_element_located((By.ID, \"username\"))\n",
    ")\n",
    "password = driver.find_element(By.ID, \"password\")\n",
    "\n",
    "\n",
    "username.send_keys(linkedin_username)\n",
    "password.send_keys(linkedin_password)\n",
    "\n",
    "\n",
    "driver.find_element(By.XPATH, '//*[@id=\"organic-div\"]/form/div[3]/button').click()\n",
    "\n",
    "\n",
    "\n",
    "WebDriverWait(driver, 10).until(\n",
    "    EC.presence_of_element_located((By.ID, \"global-nav\"))\n",
    ")\n",
    "#Automation code for login ends here\n"
   ]
  },
  {
   "cell_type": "code",
   "execution_count": 4,
   "metadata": {},
   "outputs": [],
   "source": [
    "#creating dictonary to store the data\n",
    "dic={'designation':[],'comapany':[],'employeecount':[],'followers':[],'level':[],'totalapplicants':[],'location':[],'industry':[]}"
   ]
  },
  {
   "cell_type": "code",
   "execution_count": null,
   "metadata": {},
   "outputs": [],
   "source": [
    "list_of_page_numbers=driver.find_elements(By.CLASS_NAME,\"artdeco-pagination__indicator.artdeco-pagination__indicator--number.ember-view\")\n",
    "for page in range(1,5): #len(list_of_page_numbers)):  #loop to change the pages \n",
    "    \n",
    "    page_numbers=driver.find_elements(By.CLASS_NAME,\"artdeco-pagination__indicator.artdeco-pagination__indicator--number.ember-view\")\n",
    "    page_numbers[page].click()\n",
    "    time.sleep(3)\n",
    "    t=driver.find_elements(By.CLASS_NAME,\"display-flex.job-card-container.relative.job-card-list.job-card-container--clickable\")\n",
    "    #driver.execute_script(\"window.scrollTo(0, document.body.scrollHeight);\")\n",
    "    for r in range(len(t)):  #loop to change the tabs/tile present on page\n",
    "        q=driver.find_elements(By.CLASS_NAME,\"display-flex.job-card-container.relative.job-card-list.job-card-container--clickable\")\n",
    "        j=q[r].click()\n",
    "        driver.execute_script(\"window.scrollTo(0, document.body.scrollHeight);\")  #scrolling down to the page\n",
    "        time.sleep(2)\n",
    "        \n",
    "        \n",
    "        try: #designation \n",
    "            degignation=driver.find_element(By.CLASS_NAME,\"t-24.t-bold.inline\").text\n",
    "        except:\n",
    "            degignation=\"NA\"\n",
    "        try: #company name\n",
    "            comp_name=driver.find_element(By.CLASS_NAME,'ember-view.link-without-visited-state.inline-block.t-black').text\n",
    "        except:\n",
    "            comp_name=\"NA\"\n",
    "        try: #total employees\n",
    "            total_employee=driver.find_element(By.CLASS_NAME,'jobs-company__inline-information').text\n",
    "        except:\n",
    "            total_employee=\"NA\"\n",
    "        try: #follower\n",
    "            follower_of_company=driver.find_element(By.CLASS_NAME,'artdeco-entity-lockup__subtitle.ember-view.t-16').text\n",
    "        except:\n",
    "            follower_of_company=\"NA\"\n",
    "        try:\n",
    "            level_of_job=driver.find_element(By.CLASS_NAME,\"job-details-jobs-unified-top-card__job-insight-view-model-secondary\").text\n",
    "        except:\n",
    "            level_of_job=\"NA\"\n",
    "        try: #no of applicants\n",
    "            no_of_applicants=driver.find_element(By.CLASS_NAME,\"t-black--light.mt2\").text\n",
    "        except:\n",
    "            no_of_applicants=\"NA\"\n",
    "        try:  #location of work\n",
    "            location_of_work=driver.find_element(By.CLASS_NAME,\"t-black--light.mt2\").find_element(By.TAG_NAME,\"span\").text\n",
    "        except: \n",
    "            location_of_work=\"NA\"\n",
    "        try: # Type of industry\n",
    "            industry= driver.find_element(By.CLASS_NAME,'t-14.mt5').text\n",
    "        except:\n",
    "            industry =\"NA\"\n",
    "         #storing variable values to dictonary \n",
    "        dic['designation'].append(degignation)\n",
    "        dic['comapany'].append(comp_name)\n",
    "        dic['employeecount'].append(total_employee)\n",
    "        dic['followers'].append(follower_of_company)\n",
    "        dic['level'].append(level_of_job)\n",
    "        dic[\"totalapplicants\"].append(no_of_applicants)\n",
    "        dic[\"location\"].append(location_of_work)\n",
    "        dic['industry'].append(industry)\n",
    "    \n",
    "    #time.sleep(2)\n"
   ]
  },
  {
   "cell_type": "code",
   "execution_count": 9,
   "metadata": {},
   "outputs": [],
   "source": [
    "dataframe_scrapped_data=pd.DataFrame(dic)  #changing scrapped data to dataframe\n",
    "dataframe_scrapped_data.to_csv(\"scappped_data.csv\",index=False)\n",
    "#dataframe_scrapped_data"
   ]
  }
 ],
 "metadata": {
  "kernelspec": {
   "display_name": "Python 3",
   "language": "python",
   "name": "python3"
  },
  "language_info": {
   "codemirror_mode": {
    "name": "ipython",
    "version": 3
   },
   "file_extension": ".py",
   "mimetype": "text/x-python",
   "name": "python",
   "nbconvert_exporter": "python",
   "pygments_lexer": "ipython3",
   "version": "3.12.3"
  }
 },
 "nbformat": 4,
 "nbformat_minor": 2
}
